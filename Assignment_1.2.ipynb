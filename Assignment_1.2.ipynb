{
 "cells": [
  {
   "cell_type": "markdown",
   "metadata": {},
   "source": [
    "# Machine Learning for Computer Vision\n",
    "## Assignment 1 - Group 06"
   ]
  },
  {
   "cell_type": "markdown",
   "metadata": {},
   "source": [
    "# 1.2 Part 2: Linear basis function models for regression"
   ]
  },
  {
   "cell_type": "markdown",
   "metadata": {},
   "source": [
    "## 1.2.1 Experimental setup"
   ]
  },
  {
   "cell_type": "code",
   "execution_count": 1,
   "metadata": {},
   "outputs": [],
   "source": [
    "from packages import *"
   ]
  },
  {
   "cell_type": "code",
   "execution_count": 2,
   "metadata": {},
   "outputs": [
    {
     "name": "stdout",
     "output_type": "stream",
     "text": [
      "(9, 7)\n"
     ]
    }
   ],
   "source": [
    "x = np.linspace(0,5,51)\n",
    "y = 2*x**2 - 6*x + 1\n",
    "\n",
    "mu = 0.0\n",
    "sigma = 4.0\n",
    "t = y + np.random.randn(51) * sigma + mu\n",
    "\n",
    "x_trn = x[::8]\n",
    "y_trn = y[::8]\n",
    "t_trn = t[::8]\n",
    "\n",
    "D = 8\n",
    "phi = np.ones(x_trn.shape[0])\n",
    "\n",
    "for i in range(1,D+1):\n",
    "    phi = np.vstack((\n",
    "        phi,\n",
    "        x_trn**i\n",
    "    ))\n",
    "\n",
    "print(phi.shape)"
   ]
  },
  {
   "cell_type": "markdown",
   "metadata": {},
   "source": [
    "### Calculate weight vector - Closed form"
   ]
  },
  {
   "cell_type": "code",
   "execution_count": 3,
   "metadata": {},
   "outputs": [],
   "source": [
    "def closed_form(data: np.ndarray, target: np.ndarray):\n",
    "\n",
    "    if data.shape[0] > data.shape[1]:\n",
    "\n",
    "        # Case M > N\n",
    "        [U,S,Vt] = np.linalg.svd(data, full_matrices=False)\n",
    "        # print (U.shape, S.shape, Vt.shape, target.shape)\n",
    "\n",
    "        # tmp = np.zeros((data.shape[1], data.shape[1]))\n",
    "        # for i in range(data.shape[1]):\n",
    "        #     tmp[i,i] = S[i]\n",
    "        # print(data - (U @ tmp @ Vt) < 0.000000001)\n",
    "    \n",
    "        thres = 10**(-12) * S[0]\n",
    "        Z = np.zeros((data.shape[1], data.shape[1]))\n",
    "\n",
    "        for i in range(data.shape[1]):\n",
    "            if S[i] > thres:\n",
    "                Z[i,i] = 1/S[i]\n",
    "\n",
    "        # print (U.shape, Z.shape, Vt.T.shape, target.T.shape)\n",
    "        w = U @ Z @ Vt @ target.T\n",
    "\n",
    "    else:\n",
    "\n",
    "        # Case M <= N\n",
    "        [U,S,Vt] = np.linalg.svd(data.T, full_matrices=False)\n",
    "        # print (U.shape, S.shape, Vt.shape, target.shape)\n",
    "\n",
    "        thres = 10**(-12) * S[0]\n",
    "        Z = np.zeros((data.shape[0], data.shape[0]))\n",
    "\n",
    "        for i in range(data.shape[0]):\n",
    "            if S[i] > thres:\n",
    "                Z[i,i] = 1/S[i]\n",
    "\n",
    "        # print (Vt.shape, Z.shape, U.T.shape, target.T.shape)\n",
    "        w = Vt.T @ Z @ U.T @ target.T\n",
    "\n",
    "    print(w.shape)\n",
    "    print(w)\n",
    "\n",
    "    return w"
   ]
  },
  {
   "cell_type": "markdown",
   "metadata": {},
   "source": [
    "#### Call closed form function"
   ]
  },
  {
   "cell_type": "code",
   "execution_count": 4,
   "metadata": {},
   "outputs": [
    {
     "name": "stdout",
     "output_type": "stream",
     "text": [
      "(9,)\n",
      "[ 4.57637000e+00 -2.00087321e+01 -1.49064671e+00  7.42197384e+00\n",
      "  3.85371550e+00 -4.87813046e+00  1.51033322e+00 -1.84406259e-01\n",
      "  7.31764313e-03]\n"
     ]
    }
   ],
   "source": [
    "w_trn = closed_form(phi, t_trn)"
   ]
  },
  {
   "cell_type": "markdown",
   "metadata": {},
   "source": [
    "### RSS (Residual sum of squares)"
   ]
  },
  {
   "cell_type": "code",
   "execution_count": 5,
   "metadata": {},
   "outputs": [
    {
     "name": "stdout",
     "output_type": "stream",
     "text": [
      "Training rrror:  1.3970445451618556e-19\n"
     ]
    }
   ],
   "source": [
    "Ew = sum((t_trn - w_trn.T @ phi)**2)\n",
    "print('Training rrror: ', Ew)"
   ]
  },
  {
   "cell_type": "markdown",
   "metadata": {},
   "source": [
    "### Plot the result"
   ]
  },
  {
   "cell_type": "code",
   "execution_count": 6,
   "metadata": {},
   "outputs": [
    {
     "name": "stdout",
     "output_type": "stream",
     "text": [
      "(7,)\n",
      "(9,)\n",
      "(9, 7)\n"
     ]
    },
    {
     "data": {
      "text/plain": [
       "[<matplotlib.lines.Line2D at 0x145eb0389a0>]"
      ]
     },
     "execution_count": 6,
     "metadata": {},
     "output_type": "execute_result"
    },
    {
     "data": {
      "image/png": "[encoded data removed]",
      "text/plain": [
       "<Figure size 432x288 with 1 Axes>"
      ]
     },
     "metadata": {
      "needs_background": "light"
     },
     "output_type": "display_data"
    }
   ],
   "source": [
    "# plot\n",
    "print(x_trn.shape)\n",
    "print(w_trn.shape)\n",
    "print(phi.shape)\n",
    "\n",
    "# x_hom = np.vstack((np.ones((phi.shape[0]),dtype=int), phi))\n",
    "# print(x_hom.shape)\n",
    "\n",
    "pred = w_trn.T @ phi\n",
    "\n",
    "plt.plot(x,y)\n",
    "plt.scatter(x_trn, t_trn)\n",
    "plt.plot(x_trn,pred)"
   ]
  },
  {
   "cell_type": "markdown",
   "metadata": {},
   "source": [
    "## 1.2.2 Optimization: LMS-learning rule vs. closed form"
   ]
  },
  {
   "cell_type": "code",
   "execution_count": 7,
   "metadata": {},
   "outputs": [
    {
     "name": "stdout",
     "output_type": "stream",
     "text": [
      "[4.57637 0.      0.      0.      0.      0.      0.      0.      0.     ]\n",
      "[6.96218691 1.90865353 1.52692283 1.22153826 0.97723061 0.78178449\n",
      " 0.62542759 0.50034207 0.40027366]\n",
      "3 iterations needed. w = [-7.22224070e+03 -2.31315406e+04 -7.40255107e+04 -2.36885299e+05\n",
      " -7.58035888e+05 -2.42571719e+06 -7.76229687e+06 -2.48393515e+07\n",
      " -7.94859260e+07]\n"
     ]
    }
   ],
   "source": [
    "w_lms = np.zeros(phi.shape[0])\n",
    "gamma = 1\n",
    "n_last = 0\n",
    "\n",
    "# n_last = np.random.randint(0,t_trn.shape[0])\n",
    "# e_tmp = t[n_last] # - phi[:,rand].T @ w_lms\n",
    "# w_lms = w_lms + gamma * e_tmp * phi[:,n_last]\n",
    " \n",
    "for k in range(1,500):\n",
    "    n = np.random.randint(0,t_trn.shape[0])\n",
    "    e = t[n_last] - phi[:,n_last].T @ w_lms\n",
    "    w_lms = w_lms + gamma * e * phi[:,n_last]\n",
    "    w_last = w_lms.copy()\n",
    "    if (k>2 and all((w_lms - w_last) < 0.00000001)) == True:\n",
    "        break\n",
    "    n_last = n\n",
    "    print(w_lms)\n",
    "\n",
    "\n",
    "print (f'{k} iterations needed. w = {w_lms}')\n",
    "\n"
   ]
  },
  {
   "cell_type": "code",
   "execution_count": 8,
   "metadata": {},
   "outputs": [
    {
     "ename": "ValueError",
     "evalue": "operands could not be broadcast together with shapes (9,) (0,) ",
     "output_type": "error",
     "traceback": [
      "\u001b[1;31m---------------------------------------------------------------------------\u001b[0m",
      "\u001b[1;31mValueError\u001b[0m                                Traceback (most recent call last)",
      "\u001b[1;32m~\\AppData\\Local\\Temp/ipykernel_1240/2722105648.py\u001b[0m in \u001b[0;36m<module>\u001b[1;34m\u001b[0m\n\u001b[0;32m      6\u001b[0m     \u001b[1;31m# for n in range(t_trn.shape[0]):\u001b[0m\u001b[1;33m\u001b[0m\u001b[1;33m\u001b[0m\u001b[1;33m\u001b[0m\u001b[0m\n\u001b[0;32m      7\u001b[0m     \u001b[0mE_tmp\u001b[0m \u001b[1;33m=\u001b[0m \u001b[0msum\u001b[0m\u001b[1;33m(\u001b[0m\u001b[1;33m(\u001b[0m\u001b[0mt_trn\u001b[0m \u001b[1;33m-\u001b[0m \u001b[0mw_trn\u001b[0m\u001b[1;33m.\u001b[0m\u001b[0mT\u001b[0m \u001b[1;33m@\u001b[0m \u001b[0mphi\u001b[0m\u001b[1;33m)\u001b[0m\u001b[1;33m**\u001b[0m\u001b[1;36m2\u001b[0m\u001b[1;33m)\u001b[0m\u001b[1;33m\u001b[0m\u001b[1;33m\u001b[0m\u001b[0m\n\u001b[1;32m----> 8\u001b[1;33m     \u001b[0mw_lms\u001b[0m \u001b[1;33m=\u001b[0m \u001b[0mw_lms\u001b[0m \u001b[1;33m-\u001b[0m \u001b[0mgamma\u001b[0m \u001b[1;33m*\u001b[0m \u001b[0mnp\u001b[0m\u001b[1;33m.\u001b[0m\u001b[0mgradient\u001b[0m\u001b[1;33m(\u001b[0m\u001b[0mE_tmp\u001b[0m\u001b[1;33m)\u001b[0m\u001b[1;33m\u001b[0m\u001b[1;33m\u001b[0m\u001b[0m\n\u001b[0m",
      "\u001b[1;31mValueError\u001b[0m: operands could not be broadcast together with shapes (9,) (0,) "
     ]
    }
   ],
   "source": [
    "w_last = w_lms = np.zeros(phi.shape[0])\n",
    "gamma = 1\n",
    "n_last = 0\n",
    "\n",
    "for epoch in range(1,500):\n",
    "    # for n in range(t_trn.shape[0]):\n",
    "    E_tmp = sum((t_trn - w_trn.T @ phi)**2)\n",
    "    w_lms = w_lms - gamma * np.gradient(E_tmp)"
   ]
  },
  {
   "cell_type": "markdown",
   "metadata": {},
   "source": [
    "### Create images"
   ]
  },
  {
   "cell_type": "code",
   "execution_count": null,
   "metadata": {},
   "outputs": [],
   "source": [
    "images = []\n",
    "# img = np.zeros([29,29])\n",
    "# print(img.shape)\n",
    "\n",
    "x_img = np.copy(x) # 51 data points\n",
    "y_img = np.copy(y) # y = 2x**2 - 6x + 1\n",
    "t_img = np.copy(y) # NO noise\n",
    "\n",
    "# print(len(x))\n",
    "# adding some noise to distort the center of the circles\n",
    "mu = 15.0\n",
    "sigma = 2.0\n",
    "m1 = np.random.randn(len(x_img)) * sigma + mu\n",
    "m2 = np.random.randn(len(x_img)) * sigma + mu\n",
    "\n",
    "# print(len(m1))\n",
    "# print(len(m2))\n",
    "\n",
    "for num in range(len(x_img)):\n",
    "    # m1 = 14 + np.random.randn(51) * sigma + mu\n",
    "    # m2 = 14 + np.random.randn(51) * sigma + mu \n",
    "    img = np.zeros([29,29])\n",
    "    for i in range(img.shape[0]):\n",
    "        for j in range(img.shape[1]):\n",
    "            if ((i-m1[num])**2 +(j-m2[num])**2 - (3*x_img[num])**2) < 0:\n",
    "                img[i,j] = 1\n",
    "                \n",
    "    images.append(img)\n",
    "\n",
    "# for i in range(len(images)):\n",
    "#     plt.imshow(images[i],  cmap='gray')\n",
    "#     plt.show()"
   ]
  },
  {
   "cell_type": "markdown",
   "metadata": {},
   "source": [
    "### Reshape images and compute closed form"
   ]
  },
  {
   "cell_type": "code",
   "execution_count": null,
   "metadata": {},
   "outputs": [],
   "source": [
    "images = np.array(images)\n",
    "img_data = images.reshape(images.shape[0],-1).T\n",
    "\n",
    "x_data_trn = img_data[:,::8]\n",
    "y_img_trn = y_img[::8]\n",
    "\n",
    "w_img_data = closed_form(x_data_trn , y_img_trn)"
   ]
  },
  {
   "cell_type": "code",
   "execution_count": null,
   "metadata": {},
   "outputs": [],
   "source": [
    "predi = w_img_data @ x_data_trn\n",
    "\n",
    "plt.plot(x,predi)\n",
    "\n",
    "plt.plot(x,y)\n",
    "# plt.scatter(x_data_trn, y_img_trn)\n",
    "# plt.plot(x_data_trn,predi)"
   ]
  },
  {
   "cell_type": "code",
   "execution_count": null,
   "metadata": {},
   "outputs": [],
   "source": []
  }
 ],
 "metadata": {
  "interpreter": {
   "hash": "280c2e2e60052de72f3eadda9b73a0e99634bb216552b16cb22cd827469fa0ff"
  },
  "kernelspec": {
   "display_name": "Python 3.8.12 64-bit ('ML_Assignment1': conda)",
   "language": "python",
   "name": "python3"
  },
  "language_info": {
   "codemirror_mode": {
    "name": "ipython",
    "version": 3
   },
   "file_extension": ".py",
   "mimetype": "text/x-python",
   "name": "python",
   "nbconvert_exporter": "python",
   "pygments_lexer": "ipython3",
   "version": "3.8.12"
  },
  "orig_nbformat": 4
 },
 "nbformat": 4,
 "nbformat_minor": 2
}
